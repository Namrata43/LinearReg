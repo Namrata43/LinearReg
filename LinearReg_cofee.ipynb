{
  "nbformat": 4,
  "nbformat_minor": 0,
  "metadata": {
    "colab": {
      "provenance": []
    },
    "kernelspec": {
      "name": "python3",
      "display_name": "Python 3"
    },
    "language_info": {
      "name": "python"
    }
  },
  "cells": [
    {
      "cell_type": "code",
      "execution_count": 18,
      "metadata": {
        "id": "p0qY9xTXiQCE"
      },
      "outputs": [],
      "source": [
        "import numpy as np\n",
        "import pandas as pd\n",
        "import matplotlib.pyplot as np\n",
        "import seaborn as sns"
      ]
    },
    {
      "cell_type": "code",
      "source": [
        "df=pd.read_csv('/content/coffee-dataset.csv')\n",
        "print(df)"
      ],
      "metadata": {
        "colab": {
          "base_uri": "https://localhost:8080/"
        },
        "id": "1OU-ttn5iStx",
        "outputId": "45f55471-2474-4787-c687-1dce9b8da2a7"
      },
      "execution_count": 29,
      "outputs": [
        {
          "output_type": "stream",
          "name": "stdout",
          "text": [
            "    100g_USD  rating         roast\n",
            "0      14.32      95  Medium-Light\n",
            "1       9.05      94  Medium-Light\n",
            "2       4.70      92  Medium-Light\n",
            "3       4.19      92  Medium-Light\n",
            "4       4.85      94        Medium\n",
            "..       ...     ...           ...\n",
            "94      6.76      92  Medium-Light\n",
            "95      4.04      92  Medium-Light\n",
            "96      4.63      92  Medium-Light\n",
            "97      4.12      94  Medium-Light\n",
            "98      5.00      93  Medium-Light\n",
            "\n",
            "[99 rows x 3 columns]\n"
          ]
        }
      ]
    },
    {
      "cell_type": "code",
      "source": [
        "X= df.iloc[: , :-1].values\n",
        "print(X)\n",
        "Y= df.iloc[:,-1:].values\n",
        "print(Y)"
      ],
      "metadata": {
        "colab": {
          "base_uri": "https://localhost:8080/"
        },
        "id": "bsdZmHHfZsrl",
        "outputId": "13785127-431d-4881-fcbd-0e87a5f07e05"
      },
      "execution_count": 30,
      "outputs": [
        {
          "output_type": "stream",
          "name": "stdout",
          "text": [
            "[[14.32 95.  ]\n",
            " [ 9.05 94.  ]\n",
            " [ 4.7  92.  ]\n",
            " [ 4.19 92.  ]\n",
            " [ 4.85 94.  ]\n",
            " [ 5.14 93.  ]\n",
            " [ 3.97 93.  ]\n",
            " [ 5.14 93.  ]\n",
            " [ 5.29 93.  ]\n",
            " [ 3.76 94.  ]\n",
            " [ 7.2  95.  ]\n",
            " [ 3.89 93.  ]\n",
            " [ 2.82 92.  ]\n",
            " [ 5.73 90.  ]\n",
            " [ 6.87 92.  ]\n",
            " [ 6.87 91.  ]\n",
            " [11.45 95.  ]\n",
            " [ 4.41 87.  ]\n",
            " [ 5.28 93.  ]\n",
            " [33.05 97.  ]\n",
            " [ 4.6  95.  ]\n",
            " [ 5.29 92.  ]\n",
            " [ 3.89 95.  ]\n",
            " [ 3.98 93.  ]\n",
            " [ 3.98 94.  ]\n",
            " [ 4.65 94.  ]\n",
            " [ 5.58 93.  ]\n",
            " [ 5.88 92.  ]\n",
            " [ 3.5  89.  ]\n",
            " [ 5.86 93.  ]\n",
            " [ 4.41 92.  ]\n",
            " [ 5.58 93.  ]\n",
            " [ 4.7  93.  ]\n",
            " [ 4.98 92.  ]\n",
            " [ 4.98 89.  ]\n",
            " [ 7.35 93.  ]\n",
            " [ 4.41 93.  ]\n",
            " [ 5.   93.  ]\n",
            " [ 9.7  93.  ]\n",
            " [ 6.47 95.  ]\n",
            " [ 4.41 94.  ]\n",
            " [ 5.88 93.  ]\n",
            " [12.35 93.  ]\n",
            " [ 8.44 94.  ]\n",
            " [16.17 96.  ]\n",
            " [ 7.35 95.  ]\n",
            " [32.63 94.  ]\n",
            " [ 5.66 96.  ]\n",
            " [11.02 95.  ]\n",
            " [19.82 95.  ]\n",
            " [ 5.86 95.  ]\n",
            " [ 4.98 93.  ]\n",
            " [16.56 95.  ]\n",
            " [13.   93.  ]\n",
            " [17.7  93.  ]\n",
            " [ 8.8  92.  ]\n",
            " [ 4.98 91.  ]\n",
            " [ 5.57 96.  ]\n",
            " [ 4.63 91.  ]\n",
            " [26.46 95.  ]\n",
            " [17.64 93.  ]\n",
            " [12.13 92.  ]\n",
            " [13.23 92.  ]\n",
            " [ 5.   93.  ]\n",
            " [ 5.28 94.  ]\n",
            " [ 5.88 95.  ]\n",
            " [ 3.54 93.  ]\n",
            " [ 7.35 92.  ]\n",
            " [ 3.54 92.  ]\n",
            " [ 7.05 91.  ]\n",
            " [ 4.11 90.  ]\n",
            " [ 5.07 93.  ]\n",
            " [ 5.07 93.  ]\n",
            " [ 5.51 95.  ]\n",
            " [90.83 93.  ]\n",
            " [90.83 93.  ]\n",
            " [13.   90.  ]\n",
            " [ 4.99 94.  ]\n",
            " [ 5.   92.  ]\n",
            " [22.49 95.  ]\n",
            " [ 8.02 92.  ]\n",
            " [23.81 95.  ]\n",
            " [ 5.58 92.  ]\n",
            " [ 6.03 91.  ]\n",
            " [ 9.2  95.  ]\n",
            " [ 4.12 94.  ]\n",
            " [ 4.12 93.  ]\n",
            " [ 7.05 92.  ]\n",
            " [ 4.56 92.  ]\n",
            " [ 5.14 93.  ]\n",
            " [ 3.89 94.  ]\n",
            " [ 4.25 93.  ]\n",
            " [ 4.6  94.  ]\n",
            " [ 4.85 93.  ]\n",
            " [ 6.76 92.  ]\n",
            " [ 4.04 92.  ]\n",
            " [ 4.63 92.  ]\n",
            " [ 4.12 94.  ]\n",
            " [ 5.   93.  ]]\n",
            "[['Medium-Light']\n",
            " ['Medium-Light']\n",
            " ['Medium-Light']\n",
            " ['Medium-Light']\n",
            " ['Medium']\n",
            " ['Light']\n",
            " ['Medium-Light']\n",
            " ['Medium-Light']\n",
            " ['Medium-Light']\n",
            " ['Medium']\n",
            " ['Medium']\n",
            " ['Medium-Light']\n",
            " ['Medium-Light']\n",
            " ['Medium']\n",
            " ['Medium-Light']\n",
            " ['Medium-Light']\n",
            " ['Medium-Light']\n",
            " ['Medium-Light']\n",
            " ['Medium-Light']\n",
            " ['Medium-Light']\n",
            " ['Medium-Light']\n",
            " ['Medium-Dark']\n",
            " ['Medium-Light']\n",
            " ['Medium-Light']\n",
            " ['Medium-Light']\n",
            " ['Medium-Light']\n",
            " ['Light']\n",
            " ['Medium-Light']\n",
            " ['Medium-Light']\n",
            " ['Medium-Light']\n",
            " ['Medium-Light']\n",
            " ['Light']\n",
            " ['Light']\n",
            " ['Medium-Light']\n",
            " ['Medium']\n",
            " ['Medium-Light']\n",
            " ['Medium-Light']\n",
            " ['Medium-Light']\n",
            " ['Light']\n",
            " ['Medium-Light']\n",
            " ['Medium-Light']\n",
            " ['Light']\n",
            " ['Medium-Light']\n",
            " ['Light']\n",
            " ['Medium-Light']\n",
            " ['Medium-Light']\n",
            " ['Medium-Light']\n",
            " ['Medium-Light']\n",
            " ['Medium-Light']\n",
            " ['Medium-Light']\n",
            " ['Medium-Light']\n",
            " ['Medium-Light']\n",
            " ['Medium-Light']\n",
            " ['Medium-Light']\n",
            " ['Medium']\n",
            " ['Medium-Light']\n",
            " ['Medium']\n",
            " ['Medium-Light']\n",
            " ['Light']\n",
            " ['Medium-Light']\n",
            " ['Light']\n",
            " ['Light']\n",
            " ['Medium-Light']\n",
            " ['Light']\n",
            " ['Light']\n",
            " ['Medium-Light']\n",
            " ['Medium-Light']\n",
            " ['Medium-Light']\n",
            " ['Medium-Light']\n",
            " ['Medium-Light']\n",
            " ['Medium']\n",
            " ['Medium-Light']\n",
            " ['Light']\n",
            " ['Medium-Light']\n",
            " ['Medium-Light']\n",
            " ['Medium-Light']\n",
            " ['Medium-Light']\n",
            " ['Light']\n",
            " ['Light']\n",
            " ['Medium-Light']\n",
            " ['Medium-Light']\n",
            " ['Light']\n",
            " ['Medium-Light']\n",
            " ['Medium-Light']\n",
            " ['Medium-Dark']\n",
            " ['Medium-Light']\n",
            " ['Medium-Light']\n",
            " ['Medium']\n",
            " ['Medium-Light']\n",
            " ['Medium-Light']\n",
            " ['Medium-Dark']\n",
            " ['Light']\n",
            " ['Light']\n",
            " ['Light']\n",
            " ['Medium-Light']\n",
            " ['Medium-Light']\n",
            " ['Medium-Light']\n",
            " ['Medium-Light']\n",
            " ['Medium-Light']]\n"
          ]
        }
      ]
    },
    {
      "cell_type": "markdown",
      "source": [],
      "metadata": {
        "id": "Xpi2IioBiTXz"
      }
    },
    {
      "cell_type": "code",
      "source": [
        "from sklearn.preprocessing import LabelEncoder"
      ],
      "metadata": {
        "id": "8taMht9Ra3ZL"
      },
      "execution_count": 31,
      "outputs": []
    },
    {
      "cell_type": "code",
      "source": [
        " le_y= LabelEncoder()\n",
        " Y=le_y.fit_transform(Y)\n",
        " print(Y)"
      ],
      "metadata": {
        "colab": {
          "base_uri": "https://localhost:8080/"
        },
        "id": "w-1WVia8a-UT",
        "outputId": "37b82d74-0719-46f5-804d-c62dffe7fc97"
      },
      "execution_count": 32,
      "outputs": [
        {
          "output_type": "stream",
          "name": "stdout",
          "text": [
            "[3 3 3 3 1 0 3 3 3 1 1 3 3 1 3 3 3 3 3 3 3 2 3 3 3 3 0 3 3 3 3 0 0 3 1 3 3\n",
            " 3 0 3 3 0 3 0 3 3 3 3 3 3 3 3 3 3 1 3 1 3 0 3 0 0 3 0 0 3 3 3 3 3 1 3 0 3\n",
            " 3 3 3 0 0 3 3 0 3 3 2 3 3 1 3 3 2 0 0 0 3 3 3 3 3]\n"
          ]
        },
        {
          "output_type": "stream",
          "name": "stderr",
          "text": [
            "/usr/local/lib/python3.11/dist-packages/sklearn/preprocessing/_label.py:110: DataConversionWarning: A column-vector y was passed when a 1d array was expected. Please change the shape of y to (n_samples, ), for example using ravel().\n",
            "  y = column_or_1d(y, warn=True)\n"
          ]
        }
      ]
    },
    {
      "cell_type": "code",
      "source": [
        "from sklearn.model_selection import train_test_split\n",
        "from sklearn.linear_model import  LinearRegression\n",
        "X_train,X_test,y_train,y_test = train_test_split(X,Y, test_size = 0.20)\n",
        ""
      ],
      "metadata": {
        "id": "Lxw6wTOWbKGL"
      },
      "execution_count": 33,
      "outputs": []
    },
    {
      "cell_type": "code",
      "source": [
        "X_train"
      ],
      "metadata": {
        "colab": {
          "base_uri": "https://localhost:8080/"
        },
        "id": "WMsz2lg2bcw6",
        "outputId": "396dde5b-b9e2-4973-9457-49d99cb0481b"
      },
      "execution_count": 34,
      "outputs": [
        {
          "output_type": "execute_result",
          "data": {
            "text/plain": [
              "array([[ 4.98, 89.  ],\n",
              "       [ 5.  , 92.  ],\n",
              "       [ 5.86, 95.  ],\n",
              "       [ 3.54, 92.  ],\n",
              "       [ 3.97, 93.  ],\n",
              "       [ 5.29, 92.  ],\n",
              "       [ 4.7 , 92.  ],\n",
              "       [11.45, 95.  ],\n",
              "       [ 7.35, 92.  ],\n",
              "       [ 4.63, 92.  ],\n",
              "       [ 4.12, 93.  ],\n",
              "       [ 7.05, 92.  ],\n",
              "       [ 5.14, 93.  ],\n",
              "       [ 9.7 , 93.  ],\n",
              "       [ 6.47, 95.  ],\n",
              "       [ 5.28, 93.  ],\n",
              "       [23.81, 95.  ],\n",
              "       [ 4.11, 90.  ],\n",
              "       [ 3.98, 93.  ],\n",
              "       [14.32, 95.  ],\n",
              "       [ 4.98, 93.  ],\n",
              "       [ 4.98, 91.  ],\n",
              "       [13.  , 90.  ],\n",
              "       [ 3.54, 93.  ],\n",
              "       [ 4.65, 94.  ],\n",
              "       [ 5.88, 95.  ],\n",
              "       [ 5.57, 96.  ],\n",
              "       [17.64, 93.  ],\n",
              "       [ 5.88, 92.  ],\n",
              "       [ 4.41, 87.  ],\n",
              "       [ 4.25, 93.  ],\n",
              "       [ 4.56, 92.  ],\n",
              "       [ 4.63, 91.  ],\n",
              "       [ 5.14, 93.  ],\n",
              "       [12.13, 92.  ],\n",
              "       [ 9.05, 94.  ],\n",
              "       [32.63, 94.  ],\n",
              "       [ 7.05, 91.  ],\n",
              "       [ 4.85, 94.  ],\n",
              "       [ 4.41, 92.  ],\n",
              "       [ 3.89, 95.  ],\n",
              "       [ 4.99, 94.  ],\n",
              "       [ 2.82, 92.  ],\n",
              "       [ 5.58, 93.  ],\n",
              "       [ 8.44, 94.  ],\n",
              "       [90.83, 93.  ],\n",
              "       [ 5.07, 93.  ],\n",
              "       [ 6.87, 92.  ],\n",
              "       [ 3.89, 94.  ],\n",
              "       [ 3.5 , 89.  ],\n",
              "       [ 5.07, 93.  ],\n",
              "       [ 5.73, 90.  ],\n",
              "       [ 4.04, 92.  ],\n",
              "       [ 3.76, 94.  ],\n",
              "       [13.  , 93.  ],\n",
              "       [ 7.35, 95.  ],\n",
              "       [ 6.87, 91.  ],\n",
              "       [ 4.6 , 95.  ],\n",
              "       [ 5.14, 93.  ],\n",
              "       [ 4.6 , 94.  ],\n",
              "       [ 4.41, 94.  ],\n",
              "       [ 3.89, 93.  ],\n",
              "       [33.05, 97.  ],\n",
              "       [13.23, 92.  ],\n",
              "       [16.56, 95.  ],\n",
              "       [ 4.7 , 93.  ],\n",
              "       [ 4.19, 92.  ],\n",
              "       [ 4.41, 93.  ],\n",
              "       [ 5.66, 96.  ],\n",
              "       [ 5.88, 93.  ],\n",
              "       [ 4.85, 93.  ],\n",
              "       [ 4.12, 94.  ],\n",
              "       [ 5.  , 93.  ],\n",
              "       [ 4.98, 92.  ],\n",
              "       [22.49, 95.  ],\n",
              "       [ 5.  , 93.  ],\n",
              "       [ 5.58, 93.  ],\n",
              "       [11.02, 95.  ],\n",
              "       [ 7.2 , 95.  ]])"
            ]
          },
          "metadata": {},
          "execution_count": 34
        }
      ]
    },
    {
      "cell_type": "code",
      "source": [
        "y_train"
      ],
      "metadata": {
        "colab": {
          "base_uri": "https://localhost:8080/"
        },
        "id": "fZOr6uPrbiBK",
        "outputId": "00a6230d-0319-4c2c-8ba2-0f033870b676"
      },
      "execution_count": 35,
      "outputs": [
        {
          "output_type": "execute_result",
          "data": {
            "text/plain": [
              "array([1, 0, 3, 3, 3, 2, 3, 3, 3, 3, 3, 1, 3, 0, 3, 3, 0, 1, 3, 3, 3, 1,\n",
              "       3, 3, 3, 3, 3, 0, 3, 3, 0, 3, 0, 0, 0, 3, 3, 3, 1, 3, 3, 0, 3, 0,\n",
              "       0, 3, 0, 3, 2, 3, 3, 1, 3, 1, 3, 3, 3, 3, 3, 0, 3, 3, 3, 3, 3, 0,\n",
              "       3, 3, 3, 0, 0, 3, 3, 3, 3, 0, 0, 3, 1])"
            ]
          },
          "metadata": {},
          "execution_count": 35
        }
      ]
    },
    {
      "cell_type": "code",
      "source": [
        "lr = LinearRegression()\n",
        "cofee_model = lr.fit(X_train, y_train)\n",
        "predictions = cofee_model.predict(X_test)"
      ],
      "metadata": {
        "id": "3WX82VGibpDT"
      },
      "execution_count": 36,
      "outputs": []
    },
    {
      "cell_type": "code",
      "source": [
        "print(predictions)\n",
        "print(y_test)"
      ],
      "metadata": {
        "colab": {
          "base_uri": "https://localhost:8080/"
        },
        "id": "8FrHFdFEhdxt",
        "outputId": "b43e6501-cbce-4a11-f3e1-3c2f65ee7a10"
      },
      "execution_count": 37,
      "outputs": [
        {
          "output_type": "stream",
          "name": "stdout",
          "text": [
            "[2.03387827 2.1719904  2.06686954 2.20086101 2.12449068 2.05923407\n",
            " 2.31491254 2.04080346 2.16809953 2.29515016 2.01221485 2.35410308\n",
            " 2.06180882 2.11388876 2.10234677 2.02269142 2.82127153 1.96404142\n",
            " 2.08009843 2.10358976]\n",
            "[3 1 3 2 3 3 3 3 3 3 3 3 3 0 3 3 3 3 3 3]\n"
          ]
        }
      ]
    },
    {
      "cell_type": "code",
      "source": [
        "from sklearn.metrics import r2_score\n",
        "r2_score(y_test, predictions)\n"
      ],
      "metadata": {
        "colab": {
          "base_uri": "https://localhost:8080/"
        },
        "id": "tKEzEH_ehrF1",
        "outputId": "4fb722a2-4f2f-4eb1-f74f-f1733f1465c3"
      },
      "execution_count": 38,
      "outputs": [
        {
          "output_type": "execute_result",
          "data": {
            "text/plain": [
              "-0.5332237935515896"
            ]
          },
          "metadata": {},
          "execution_count": 38
        }
      ]
    }
  ]
}